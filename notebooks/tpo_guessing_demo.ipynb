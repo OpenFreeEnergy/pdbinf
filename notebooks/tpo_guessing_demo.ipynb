{
 "cells": [
  {
   "cell_type": "markdown",
   "id": "a8542f48",
   "metadata": {},
   "source": [
    "## Introduction\n",
    "\n",
    "This notebook shows how PDBinf can be used to:\n",
    "- accurately load PDB files\n",
    "- guess residue names based on element graphs\n",
    "- guess atom names based on SMARTS matching"
   ]
  },
  {
   "cell_type": "code",
   "execution_count": 1,
   "id": "6417e83e",
   "metadata": {},
   "outputs": [],
   "source": [
    "import gemmi\n",
    "import pdbinf\n",
    "from pdbinf import guessing\n",
    "from rdkit import Chem"
   ]
  },
  {
   "cell_type": "markdown",
   "id": "ff41876e",
   "metadata": {},
   "source": [
    "### Problem statement\n",
    "\n",
    "Natively RDKit will not handle non-standard amino acids.  E.g. this structure has a phosphothreonine residue (resname TPO);  the bonds are correctly guessed from geometric information, but the bond orders are left as single."
   ]
  },
  {
   "cell_type": "code",
   "execution_count": 2,
   "id": "4379282c",
   "metadata": {},
   "outputs": [
    {
     "data": {
      "image/png": "[encoded data removed]",
      "text/plain": [
       "<rdkit.Chem.rdchem.Mol at 0x163bb87c0>"
      ]
     },
     "execution_count": 2,
     "metadata": {},
     "output_type": "execute_result"
    }
   ],
   "source": [
    "mol = Chem.MolFromPDBFile('./cdk2.pdb', removeHs=False)\n",
    "tpo_section = []\n",
    "for atom in mol.GetAtoms():\n",
    "    if atom.GetMonomerInfo().GetResidueName() == 'TPO':\n",
    "        tpo_section.append(atom.GetIdx())\n",
    "\n",
    "tpo_residue = guessing.copy_mol_subset(mol, tpo_section)\n",
    "tpo_residue"
   ]
  },
  {
   "cell_type": "markdown",
   "id": "de3c846b",
   "metadata": {},
   "source": [
    "### PDBinf solution\n",
    "\n",
    "By providing the `TPO.cif` (available from the PDB) we can apply the bond order information from that template to correctly assign bond orders to the TPO residue.\n",
    "Under the hood this is using `Chem.MolFromPDBFile`, then iterating monomer by monomer to assign bond order information from the templates provided.\n",
    "\n",
    "(TPO template from https://www.rcsb.org/ligand/TPO -> download Definition CIF format)"
   ]
  },
  {
   "cell_type": "code",
   "execution_count": 3,
   "id": "f7f437cd",
   "metadata": {},
   "outputs": [
    {
     "data": {
      "image/png": "[encoded data removed]",
      "text/plain": [
       "<rdkit.Chem.rdchem.Mol at 0x163bb8580>"
      ]
     },
     "execution_count": 3,
     "metadata": {},
     "output_type": "execute_result"
    }
   ],
   "source": [
    "templates = gemmi.cif.read('./tpo.cif')\n",
    "\n",
    "mol = pdbinf.load_pdb_file('./cdk2.pdb',\n",
    "                           templates=[pdbinf.STANDARD_AA_DOC, templates])\n",
    "\n",
    "tpo_section = []\n",
    "for atom in mol.GetAtoms():\n",
    "    if atom.GetMonomerInfo().GetResidueName() == 'TPO':\n",
    "        tpo_section.append(atom.GetIdx())\n",
    "\n",
    "tpo_residue = guessing.copy_mol_subset(mol, tpo_section)\n",
    "tpo_residue"
   ]
  },
  {
   "cell_type": "markdown",
   "id": "5681b844",
   "metadata": {},
   "source": [
    "### Missing residue names\n",
    "\n",
    "The template-based solution requires correctly knowing the name of each residue to match this to a template.\n",
    "If the residues are mislabelled, there is a `guessing.guess_residue_name` function to match the element graph (therefore requiring bonds to have been guessed from geometry) to a template.  The `subset` kwarg allows a section of the entire molecule to be targetted for guessing.\n",
    "\n",
    "E.g. here the TPO section of the molecule can be correctly guessed as being a TPO residue."
   ]
  },
  {
   "cell_type": "code",
   "execution_count": 4,
   "id": "8bf24e95",
   "metadata": {},
   "outputs": [
    {
     "data": {
      "text/plain": [
       "'TPO'"
      ]
     },
     "execution_count": 4,
     "metadata": {},
     "output_type": "execute_result"
    }
   ],
   "source": [
    "pdbinf.guessing.guess_residue_name(mol, templates,\n",
    "                                  subset=tpo_section)"
   ]
  },
  {
   "cell_type": "markdown",
   "id": "8d6ed4e1",
   "metadata": {},
   "source": [
    "Under the hood, this is using rdkit `rdMolHash` to create a SMILES string of the element-graph.  This can then be quickly matched against the hash for each template."
   ]
  },
  {
   "cell_type": "code",
   "execution_count": 5,
   "id": "7aae3bf8",
   "metadata": {},
   "outputs": [
    {
     "data": {
      "text/plain": [
       "'CC(O[PH](O)(O)O)C(N)CO'"
      ]
     },
     "execution_count": 5,
     "metadata": {},
     "output_type": "execute_result"
    }
   ],
   "source": [
    "pdbinf.guessing.normalised_hash(tpo_residue)"
   ]
  },
  {
   "cell_type": "markdown",
   "id": "a5bc0ba5",
   "metadata": {},
   "source": [
    "### Missing atom names\n",
    "\n",
    "Similarly, sometimes atom names are incorrectly labelled, which can lead to difficulty downstream.\n",
    "Once the correct template is identified, the `guessing.guess_atom_names` function can return the canonical atom names for a given residue."
   ]
  },
  {
   "cell_type": "code",
   "execution_count": 6,
   "id": "4a34bbec",
   "metadata": {},
   "outputs": [
    {
     "data": {
      "text/plain": [
       "['N',\n",
       " 'CA',\n",
       " 'CB',\n",
       " 'CG2',\n",
       " 'OG1',\n",
       " 'P',\n",
       " 'O1P',\n",
       " 'O2P',\n",
       " 'O3P',\n",
       " 'C',\n",
       " 'O',\n",
       " 'H',\n",
       " 'HA',\n",
       " 'HB',\n",
       " 'HG21',\n",
       " 'HG22',\n",
       " 'HG23']"
      ]
     },
     "execution_count": 6,
     "metadata": {},
     "output_type": "execute_result"
    }
   ],
   "source": [
    "pdbinf.guessing.guess_atom_names(mol, templates['TPO'], subset=tpo_section)"
   ]
  },
  {
   "cell_type": "code",
   "execution_count": null,
   "id": "db734840",
   "metadata": {},
   "outputs": [],
   "source": []
  }
 ],
 "metadata": {
  "kernelspec": {
   "display_name": "Python 3 (ipykernel)",
   "language": "python",
   "name": "python3"
  },
  "language_info": {
   "codemirror_mode": {
    "name": "ipython",
    "version": 3
   },
   "file_extension": ".py",
   "mimetype": "text/x-python",
   "name": "python",
   "nbconvert_exporter": "python",
   "pygments_lexer": "ipython3",
   "version": "3.10.11"
  }
 },
 "nbformat": 4,
 "nbformat_minor": 5
}
